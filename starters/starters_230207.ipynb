{
 "cells": [
  {
   "attachments": {},
   "cell_type": "markdown",
   "metadata": {},
   "source": [
    "# 17강. 딕셔너리 만들고 값 추출하기"
   ]
  },
  {
   "cell_type": "code",
   "execution_count": 22,
   "metadata": {},
   "outputs": [
    {
     "name": "stdout",
     "output_type": "stream",
     "text": [
      "menu_dct : {'김밥': 2000, '떡볶이': 3000}\n",
      "menu_dct2 : {'김밥': 2000, '떡볶이': 3000}\n",
      "menu_dct3 : {'김밥': 2000, '떡볶이': 3000}\n"
     ]
    }
   ],
   "source": [
    "# 리스트 2개로 만드는 방법(dictionary comprehension)\n",
    "key_lst = ['김밥', '떡볶이']\n",
    "value_lst = [2000, 3000]\n",
    "menu_dct = {key_lst[i] : value_lst[i] for i in range(len(key_lst))}\n",
    "\n",
    "# = 으로 할당\n",
    "menu_dct2 = dict(김밥 = 2000, 떡볶이 = 3000)\n",
    "\n",
    "# zip 함수\n",
    "menu_dct3 = dict(zip(key_lst, value_lst))\n",
    "\n",
    "print(f'menu_dct : {menu_dct}')\n",
    "print(f'menu_dct2 : {menu_dct2}')\n",
    "print(f'menu_dct3 : {menu_dct3}')"
   ]
  },
  {
   "cell_type": "code",
   "execution_count": 23,
   "metadata": {},
   "outputs": [
    {
     "name": "stdout",
     "output_type": "stream",
     "text": [
      "2000\n"
     ]
    }
   ],
   "source": [
    "# 딕셔너리에 키 존재 여부 확인하기\n",
    "if '김밥' in menu_dct : \n",
    "    print(menu_dct['김밥'])\n",
    "else : \n",
    "    print('없음')        "
   ]
  },
  {
   "attachments": {},
   "cell_type": "markdown",
   "metadata": {},
   "source": [
    "# 18강. 딕셔너리 변경하기"
   ]
  },
  {
   "cell_type": "code",
   "execution_count": 33,
   "metadata": {},
   "outputs": [],
   "source": [
    "sub = ['kor', 'eng', 'math']\n",
    "score = [100, 90, 80]\n",
    "scores = {sub[i] : score[i] for i in range(len(sub))}"
   ]
  },
  {
   "cell_type": "code",
   "execution_count": 34,
   "metadata": {},
   "outputs": [
    {
     "data": {
      "text/plain": [
       "{'kor': 100, 'eng': 90, 'math': 80, 'music': None}"
      ]
     },
     "execution_count": 34,
     "metadata": {},
     "output_type": "execute_result"
    }
   ],
   "source": [
    "# key만 먼저 넣는 방법 setdefault\n",
    "scores.setdefault('music')\n",
    "scores"
   ]
  },
  {
   "cell_type": "code",
   "execution_count": 35,
   "metadata": {},
   "outputs": [
    {
     "data": {
      "text/plain": [
       "{'kor': 100, 'eng': 90, 'math': 90, 'music': 90}"
      ]
     },
     "execution_count": 35,
     "metadata": {},
     "output_type": "execute_result"
    }
   ],
   "source": [
    "# 값 바꾸기 update\n",
    "scores.update(math = 90, music = 90)\n",
    "scores"
   ]
  },
  {
   "cell_type": "markdown",
   "metadata": {},
   "source": [
    "pop, del 같은 리스트에 먹히는 메소드도 먹힘."
   ]
  },
  {
   "attachments": {},
   "cell_type": "markdown",
   "metadata": {},
   "source": [
    "# 19강. 딕셔너리의 키, 값 다루기"
   ]
  },
  {
   "cell_type": "code",
   "execution_count": 36,
   "metadata": {},
   "outputs": [
    {
     "name": "stdout",
     "output_type": "stream",
     "text": [
      "kor\n",
      "eng\n",
      "math\n",
      "music\n"
     ]
    }
   ],
   "source": [
    "for i in scores :\n",
    "    print(i)\n",
    "\n",
    "# 딕셔너리 명만 쓰면 key들로 인식    "
   ]
  },
  {
   "cell_type": "code",
   "execution_count": 37,
   "metadata": {},
   "outputs": [
    {
     "name": "stdout",
     "output_type": "stream",
     "text": [
      "('kor', 100)\n",
      "('eng', 90)\n",
      "('math', 90)\n",
      "('music', 90)\n"
     ]
    }
   ],
   "source": [
    "for i in scores.items() :\n",
    "    print(i)\n",
    "\n",
    "# item이면 튜플로 출력"
   ]
  },
  {
   "cell_type": "code",
   "execution_count": 41,
   "metadata": {},
   "outputs": [
    {
     "data": {
      "text/plain": [
       "[('eng', 90), ('kor', 100), ('math', 90), ('music', 90)]"
      ]
     },
     "execution_count": 41,
     "metadata": {},
     "output_type": "execute_result"
    }
   ],
   "source": [
    "# key값 기준 정렬\n",
    "sorted(scores.items())"
   ]
  },
  {
   "attachments": {},
   "cell_type": "markdown",
   "metadata": {},
   "source": [
    "# 20강. 딕셔너리 연습하기"
   ]
  },
  {
   "attachments": {},
   "cell_type": "markdown",
   "metadata": {},
   "source": [
    "## 연습문제\n",
    "* 영어 단어장 만들기  \n",
    "엔터를 입력할 때까지 뜻을 입력받아 단어장을 만들고 입력이 끝나면 단어 테스트 실시하는 프로그램을 만들어 보자."
   ]
  },
  {
   "cell_type": "code",
   "execution_count": 78,
   "metadata": {},
   "outputs": [
    {
     "name": "stdout",
     "output_type": "stream",
     "text": [
      "점수는 2/2입니다.\n"
     ]
    }
   ],
   "source": [
    "word_dict = {}\n",
    "while True : \n",
    "    input_word = input('영어 단어,뜻 형태로 단어를 입력하세요.').split(',')\n",
    "    if len(input_word) < 2 : \n",
    "        break\n",
    "    else : \n",
    "        word_dict.setdefault(input_word[0])\n",
    "        word_dict[input_word[0]] = input_word[1]\n",
    "\n",
    "cnt = 0\n",
    "for key in word_dict : \n",
    "    ans = input(f'{key}의 뜻은?')\n",
    "    if ans == word_dict[key] : \n",
    "        cnt += 1    \n",
    "        \n",
    "print(f'점수는 {cnt}/{len(word_dict)}입니다.')                "
   ]
  },
  {
   "attachments": {},
   "cell_type": "markdown",
   "metadata": {},
   "source": [
    "# 21강. 함수 만들기"
   ]
  },
  {
   "attachments": {},
   "cell_type": "markdown",
   "metadata": {},
   "source": [
    "## 연습문제"
   ]
  },
  {
   "cell_type": "code",
   "execution_count": 79,
   "metadata": {},
   "outputs": [],
   "source": [
    "name = input('이름을 입력하세요. : ')\n",
    "age = input('나이를 입력하세요. : ')\n",
    "\n",
    "def hbd(name, age) : \n",
    "    print(f'{name}님의 {age}번째 생일을 축하합니다!')\n",
    "\n",
    "hbd(name = name, age = age)    "
   ]
  },
  {
   "attachments": {},
   "cell_type": "markdown",
   "metadata": {},
   "source": [
    "# 22강. 함수의 결과값 받아서 사용하기"
   ]
  },
  {
   "attachments": {},
   "cell_type": "markdown",
   "metadata": {},
   "source": [
    "## 연습문제\n",
    "* 정수를 입력받고 소수 여부 판별하는 함수 작성하고 호출하기"
   ]
  },
  {
   "cell_type": "code",
   "execution_count": 99,
   "metadata": {},
   "outputs": [],
   "source": [
    "import numpy as np\n",
    "from math import sqrt\n",
    "n = int(input())\n",
    "def is_prime(n) : \n",
    "    if n <= 1 :\n",
    "        print('판단할 수 없습니다.')\n",
    "    \n",
    "    for i in range(2, int(sqrt(n)) + 1) : \n",
    "        if n % i == 0 : \n",
    "            print('합성수입니다.')\n",
    "            break\n",
    "    \n",
    "    if i != int(sqrt(n)) : \n",
    "        pass\n",
    "    else : \n",
    "        print('소수입니다.') \n",
    "\n",
    "is_prime(n = n)\n"
   ]
  },
  {
   "attachments": {},
   "cell_type": "markdown",
   "metadata": {},
   "source": [
    "# 23강. 인수 전달 방법"
   ]
  },
  {
   "attachments": {},
   "cell_type": "markdown",
   "metadata": {},
   "source": [
    "def 함수이름(* **args**) :  \n",
    "args를 리스트처럼 쓸 수 있음."
   ]
  },
  {
   "attachments": {},
   "cell_type": "markdown",
   "metadata": {},
   "source": [
    "## 24강. 함수에서 변수 사용하기"
   ]
  },
  {
   "attachments": {},
   "cell_type": "markdown",
   "metadata": {},
   "source": [
    "- 전역 변수 vs 지역 변수 : 함수 외부 변수 or 내부 변수\n",
    "\n",
    "- **_늘 조심하자 지역변수는 함수 밖에서 호출하려고 해도 없다_**\n",
    "\n",
    "- 전역변수를 함수 내에서 쓰고 싶다면 ```global```을 변수명 앞에 붙인다."
   ]
  },
  {
   "attachments": {},
   "cell_type": "markdown",
   "metadata": {},
   "source": [
    "# 25강. 람다 함수와 map 함수"
   ]
  },
  {
   "attachments": {},
   "cell_type": "markdown",
   "metadata": {},
   "source": [
    "```lambda 리턴값 for 범위 조건 true식 if 조건 else 조건 false식```"
   ]
  },
  {
   "attachments": {},
   "cell_type": "markdown",
   "metadata": {},
   "source": [
    "map : sequence의 각 원소에 특정함수 적용  \n",
    "```map(함수, 시퀀스)```"
   ]
  },
  {
   "attachments": {},
   "cell_type": "markdown",
   "metadata": {},
   "source": [
    "# 26강. 클래스와 객체"
   ]
  },
  {
   "attachments": {},
   "cell_type": "markdown",
   "metadata": {},
   "source": [
    "속성 : ```클래스명.속성명```  \n",
    "```__init__``` : 생성자 - 속성 초기화 + 생성되면 실행할 일"
   ]
  },
  {
   "cell_type": "code",
   "execution_count": 101,
   "metadata": {},
   "outputs": [],
   "source": [
    "class Car:\n",
    "    def __init__(self, b, m, c) : \n",
    "        self.brand, self.model, self.color = b, m, c\n",
    "        print(f'{self.brand} {self.color} {self.model} 출고')\n",
    "\n",
    "    def turn_on(self) : \n",
    "        print(f'{self.brand} 시동을 켭니다.')    \n",
    "    def turn_off(self) : \n",
    "        print(f'{self.brand} 시동을 끕니다.')    \n",
    "    def drive(self) : \n",
    "        print(f'{self.brand} 주행중입니다.')    "
   ]
  },
  {
   "cell_type": "code",
   "execution_count": 102,
   "metadata": {},
   "outputs": [
    {
     "name": "stdout",
     "output_type": "stream",
     "text": [
      "현대자동차 화이트 소나타 출고\n"
     ]
    }
   ],
   "source": [
    "car1 = Car('현대자동차', '소나타', '화이트')"
   ]
  },
  {
   "cell_type": "code",
   "execution_count": 105,
   "metadata": {},
   "outputs": [
    {
     "name": "stdout",
     "output_type": "stream",
     "text": [
      "현대자동차 시동을 켭니다.\n",
      "현대자동차 주행중입니다.\n",
      "현대자동차 시동을 끕니다.\n"
     ]
    }
   ],
   "source": [
    "car1.turn_on()\n",
    "car1.drive()\n",
    "car1.turn_off()"
   ]
  },
  {
   "attachments": {},
   "cell_type": "markdown",
   "metadata": {},
   "source": [
    "# 27강. 모듈과 패키지"
   ]
  },
  {
   "attachments": {},
   "cell_type": "markdown",
   "metadata": {},
   "source": [
    "* 모듈 : 프로그램에서 공통적으로 사용되는 변수, 수, 함수, 클래스 등을 파일화한 것.\n",
    "* 패키지 : 모듈이 모인 것."
   ]
  },
  {
   "attachments": {},
   "cell_type": "markdown",
   "metadata": {},
   "source": [
    "# 28강. 모듈 사용하기"
   ]
  },
  {
   "attachments": {},
   "cell_type": "markdown",
   "metadata": {},
   "source": [
    "# 29강 ~ 32강. 판다스를 이용한 데이터 분석"
   ]
  },
  {
   "attachments": {},
   "cell_type": "markdown",
   "metadata": {},
   "source": [
    "utf-8 형식으로 만드는 것이 좋다. 웬만한 것들은 깨지지 않고 나옴."
   ]
  },
  {
   "cell_type": "code",
   "execution_count": 2,
   "metadata": {},
   "outputs": [],
   "source": [
    "import pandas as pd\n",
    "df = pd.read_csv('C:/code/data/scores.csv', encoding = 'utf-8')"
   ]
  },
  {
   "attachments": {},
   "cell_type": "markdown",
   "metadata": {},
   "source": [
    "## 데이터 타입 및 기초 통계량 조회  \n",
    "* info 함수와 describe 함수의 결과에 따라 kor 컬럼에 3개, eng 컬럼에 2개, math 컬럼에 1개의 결측치가 존재한다.\n",
    "* describe 함수에 따르면 국어와 수학은 비슷한 분포를 보이지만 영어는 점수의 분산이 두 과목에 비해 크고 평균이 낮음을 알 수 있다.  \n",
    "* 상관계수도 0.66에 가까우므로 어느 정도 양의 선형관계를 띈다. 따라서 국어와 수학의 결측 데이터는 서로의 분위수로 대체할 수 있을 것 같다.\n",
    "* 영어와 국어 성적의 상관관계도 0.6에 가까우므로 양의 선형관계를 띈다. 영어의 결측 데이터는 국어의 분위수로 대체 가능할 것 같다."
   ]
  },
  {
   "cell_type": "code",
   "execution_count": 3,
   "metadata": {},
   "outputs": [
    {
     "name": "stdout",
     "output_type": "stream",
     "text": [
      "<class 'pandas.core.frame.DataFrame'>\n",
      "RangeIndex: 30 entries, 0 to 29\n",
      "Data columns (total 4 columns):\n",
      " #   Column  Non-Null Count  Dtype  \n",
      "---  ------  --------------  -----  \n",
      " 0   name    30 non-null     object \n",
      " 1   kor     27 non-null     float64\n",
      " 2   eng     28 non-null     float64\n",
      " 3   math    29 non-null     float64\n",
      "dtypes: float64(3), object(1)\n",
      "memory usage: 1.1+ KB\n"
     ]
    }
   ],
   "source": [
    "df.info()"
   ]
  },
  {
   "cell_type": "code",
   "execution_count": 4,
   "metadata": {},
   "outputs": [
    {
     "data": {
      "text/html": [
       "<div>\n",
       "<style scoped>\n",
       "    .dataframe tbody tr th:only-of-type {\n",
       "        vertical-align: middle;\n",
       "    }\n",
       "\n",
       "    .dataframe tbody tr th {\n",
       "        vertical-align: top;\n",
       "    }\n",
       "\n",
       "    .dataframe thead th {\n",
       "        text-align: right;\n",
       "    }\n",
       "</style>\n",
       "<table border=\"1\" class=\"dataframe\">\n",
       "  <thead>\n",
       "    <tr style=\"text-align: right;\">\n",
       "      <th></th>\n",
       "      <th>kor</th>\n",
       "      <th>eng</th>\n",
       "      <th>math</th>\n",
       "    </tr>\n",
       "  </thead>\n",
       "  <tbody>\n",
       "    <tr>\n",
       "      <th>count</th>\n",
       "      <td>27.000000</td>\n",
       "      <td>28.000000</td>\n",
       "      <td>29.000000</td>\n",
       "    </tr>\n",
       "    <tr>\n",
       "      <th>mean</th>\n",
       "      <td>85.740741</td>\n",
       "      <td>80.892857</td>\n",
       "      <td>84.827586</td>\n",
       "    </tr>\n",
       "    <tr>\n",
       "      <th>std</th>\n",
       "      <td>15.045042</td>\n",
       "      <td>18.361270</td>\n",
       "      <td>15.950972</td>\n",
       "    </tr>\n",
       "    <tr>\n",
       "      <th>min</th>\n",
       "      <td>50.000000</td>\n",
       "      <td>35.000000</td>\n",
       "      <td>50.000000</td>\n",
       "    </tr>\n",
       "    <tr>\n",
       "      <th>25%</th>\n",
       "      <td>75.000000</td>\n",
       "      <td>68.750000</td>\n",
       "      <td>70.000000</td>\n",
       "    </tr>\n",
       "    <tr>\n",
       "      <th>50%</th>\n",
       "      <td>90.000000</td>\n",
       "      <td>85.000000</td>\n",
       "      <td>90.000000</td>\n",
       "    </tr>\n",
       "    <tr>\n",
       "      <th>75%</th>\n",
       "      <td>100.000000</td>\n",
       "      <td>100.000000</td>\n",
       "      <td>100.000000</td>\n",
       "    </tr>\n",
       "    <tr>\n",
       "      <th>max</th>\n",
       "      <td>100.000000</td>\n",
       "      <td>100.000000</td>\n",
       "      <td>100.000000</td>\n",
       "    </tr>\n",
       "  </tbody>\n",
       "</table>\n",
       "</div>"
      ],
      "text/plain": [
       "              kor         eng        math\n",
       "count   27.000000   28.000000   29.000000\n",
       "mean    85.740741   80.892857   84.827586\n",
       "std     15.045042   18.361270   15.950972\n",
       "min     50.000000   35.000000   50.000000\n",
       "25%     75.000000   68.750000   70.000000\n",
       "50%     90.000000   85.000000   90.000000\n",
       "75%    100.000000  100.000000  100.000000\n",
       "max    100.000000  100.000000  100.000000"
      ]
     },
     "execution_count": 4,
     "metadata": {},
     "output_type": "execute_result"
    }
   ],
   "source": [
    "df.describe()"
   ]
  },
  {
   "cell_type": "code",
   "execution_count": 5,
   "metadata": {},
   "outputs": [
    {
     "data": {
      "text/html": [
       "<div>\n",
       "<style scoped>\n",
       "    .dataframe tbody tr th:only-of-type {\n",
       "        vertical-align: middle;\n",
       "    }\n",
       "\n",
       "    .dataframe tbody tr th {\n",
       "        vertical-align: top;\n",
       "    }\n",
       "\n",
       "    .dataframe thead th {\n",
       "        text-align: right;\n",
       "    }\n",
       "</style>\n",
       "<table border=\"1\" class=\"dataframe\">\n",
       "  <thead>\n",
       "    <tr style=\"text-align: right;\">\n",
       "      <th></th>\n",
       "      <th>kor</th>\n",
       "      <th>eng</th>\n",
       "      <th>math</th>\n",
       "    </tr>\n",
       "  </thead>\n",
       "  <tbody>\n",
       "    <tr>\n",
       "      <th>kor</th>\n",
       "      <td>1.000000</td>\n",
       "      <td>0.596878</td>\n",
       "      <td>0.657662</td>\n",
       "    </tr>\n",
       "    <tr>\n",
       "      <th>eng</th>\n",
       "      <td>0.596878</td>\n",
       "      <td>1.000000</td>\n",
       "      <td>0.320933</td>\n",
       "    </tr>\n",
       "    <tr>\n",
       "      <th>math</th>\n",
       "      <td>0.657662</td>\n",
       "      <td>0.320933</td>\n",
       "      <td>1.000000</td>\n",
       "    </tr>\n",
       "  </tbody>\n",
       "</table>\n",
       "</div>"
      ],
      "text/plain": [
       "           kor       eng      math\n",
       "kor   1.000000  0.596878  0.657662\n",
       "eng   0.596878  1.000000  0.320933\n",
       "math  0.657662  0.320933  1.000000"
      ]
     },
     "execution_count": 5,
     "metadata": {},
     "output_type": "execute_result"
    }
   ],
   "source": [
    "df.corr()"
   ]
  },
  {
   "cell_type": "code",
   "execution_count": 6,
   "metadata": {},
   "outputs": [
    {
     "data": {
      "text/html": [
       "<div>\n",
       "<style scoped>\n",
       "    .dataframe tbody tr th:only-of-type {\n",
       "        vertical-align: middle;\n",
       "    }\n",
       "\n",
       "    .dataframe tbody tr th {\n",
       "        vertical-align: top;\n",
       "    }\n",
       "\n",
       "    .dataframe thead th {\n",
       "        text-align: right;\n",
       "    }\n",
       "</style>\n",
       "<table border=\"1\" class=\"dataframe\">\n",
       "  <thead>\n",
       "    <tr style=\"text-align: right;\">\n",
       "      <th></th>\n",
       "      <th>name</th>\n",
       "      <th>kor</th>\n",
       "      <th>eng</th>\n",
       "      <th>math</th>\n",
       "    </tr>\n",
       "  </thead>\n",
       "  <tbody>\n",
       "    <tr>\n",
       "      <th>4</th>\n",
       "      <td>Henry</td>\n",
       "      <td>NaN</td>\n",
       "      <td>35.0</td>\n",
       "      <td>60.0</td>\n",
       "    </tr>\n",
       "    <tr>\n",
       "      <th>16</th>\n",
       "      <td>Ellen</td>\n",
       "      <td>NaN</td>\n",
       "      <td>60.0</td>\n",
       "      <td>NaN</td>\n",
       "    </tr>\n",
       "    <tr>\n",
       "      <th>19</th>\n",
       "      <td>Kate</td>\n",
       "      <td>50.0</td>\n",
       "      <td>NaN</td>\n",
       "      <td>50.0</td>\n",
       "    </tr>\n",
       "    <tr>\n",
       "      <th>24</th>\n",
       "      <td>Tiffany</td>\n",
       "      <td>90.0</td>\n",
       "      <td>NaN</td>\n",
       "      <td>90.0</td>\n",
       "    </tr>\n",
       "    <tr>\n",
       "      <th>27</th>\n",
       "      <td>Vikkie</td>\n",
       "      <td>NaN</td>\n",
       "      <td>50.0</td>\n",
       "      <td>100.0</td>\n",
       "    </tr>\n",
       "  </tbody>\n",
       "</table>\n",
       "</div>"
      ],
      "text/plain": [
       "       name   kor   eng   math\n",
       "4     Henry   NaN  35.0   60.0\n",
       "16    Ellen   NaN  60.0    NaN\n",
       "19     Kate  50.0   NaN   50.0\n",
       "24  Tiffany  90.0   NaN   90.0\n",
       "27   Vikkie   NaN  50.0  100.0"
      ]
     },
     "execution_count": 6,
     "metadata": {},
     "output_type": "execute_result"
    }
   ],
   "source": [
    "df[df.kor.isnull()|df.eng.isnull()|df.math.isnull()]"
   ]
  },
  {
   "cell_type": "code",
   "execution_count": 7,
   "metadata": {},
   "outputs": [
    {
     "data": {
      "text/plain": [
       "59.94"
      ]
     },
     "execution_count": 7,
     "metadata": {},
     "output_type": "execute_result"
    }
   ],
   "source": [
    "df.math.quantile(0.071)"
   ]
  },
  {
   "cell_type": "code",
   "execution_count": 8,
   "metadata": {},
   "outputs": [
    {
     "data": {
      "text/plain": [
       "66.92"
      ]
     },
     "execution_count": 8,
     "metadata": {},
     "output_type": "execute_result"
    }
   ],
   "source": [
    "df.kor.quantile(0.071)"
   ]
  },
  {
   "cell_type": "code",
   "execution_count": 31,
   "metadata": {},
   "outputs": [
    {
     "data": {
      "text/plain": [
       "90.0"
      ]
     },
     "execution_count": 31,
     "metadata": {},
     "output_type": "execute_result"
    }
   ],
   "source": [
    "df.kor.quantile(0.385)"
   ]
  },
  {
   "cell_type": "code",
   "execution_count": 10,
   "metadata": {},
   "outputs": [
    {
     "data": {
      "text/plain": [
       "90.0"
      ]
     },
     "execution_count": 10,
     "metadata": {},
     "output_type": "execute_result"
    }
   ],
   "source": [
    "df.eng.quantile(0.55)"
   ]
  },
  {
   "cell_type": "code",
   "execution_count": 18,
   "metadata": {},
   "outputs": [
    {
     "data": {
      "text/plain": [
       "100.0"
      ]
     },
     "execution_count": 18,
     "metadata": {},
     "output_type": "execute_result"
    }
   ],
   "source": [
    "df.math.quantile(0.72)"
   ]
  },
  {
   "cell_type": "code",
   "execution_count": 19,
   "metadata": {},
   "outputs": [
    {
     "data": {
      "text/plain": [
       "98.6"
      ]
     },
     "execution_count": 19,
     "metadata": {},
     "output_type": "execute_result"
    }
   ],
   "source": [
    "df.kor.quantile(0.72)"
   ]
  },
  {
   "cell_type": "code",
   "execution_count": null,
   "metadata": {},
   "outputs": [],
   "source": []
  }
 ],
 "metadata": {
  "kernelspec": {
   "display_name": "base",
   "language": "python",
   "name": "python3"
  },
  "language_info": {
   "codemirror_mode": {
    "name": "ipython",
    "version": 3
   },
   "file_extension": ".py",
   "mimetype": "text/x-python",
   "name": "python",
   "nbconvert_exporter": "python",
   "pygments_lexer": "ipython3",
   "version": "3.9.13"
  },
  "orig_nbformat": 4,
  "vscode": {
   "interpreter": {
    "hash": "ff4f85d6e04298634172ac5d8264e7e9b556b95639fe52ebb9425c4d4cba0c9c"
   }
  }
 },
 "nbformat": 4,
 "nbformat_minor": 2
}
