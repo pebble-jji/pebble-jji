{
 "cells": [
  {
   "attachments": {},
   "cell_type": "markdown",
   "metadata": {},
   "source": [
    "# 6강. 산술연산, 문자열 연산"
   ]
  },
  {
   "attachments": {},
   "cell_type": "markdown",
   "metadata": {},
   "source": [
    "## 연습문제\n",
    "* 화씨 온도를 입력받아 섭씨 온도로 변환하는 프로그램을 작성해보세요.   \n",
    "$ C = (F - 32) * \\frac{5}{9}$"
   ]
  },
  {
   "cell_type": "code",
   "execution_count": 34,
   "metadata": {},
   "outputs": [
    {
     "name": "stdout",
     "output_type": "stream",
     "text": [
      "섭씨온도 : 65.55555555555556\n"
     ]
    }
   ],
   "source": [
    "f = int(input('화씨 온도 : '))\n",
    "print(f'섭씨온도 : {(f - 32) * 5 / 9}')"
   ]
  },
  {
   "attachments": {},
   "cell_type": "markdown",
   "metadata": {},
   "source": [
    "# 7강. 문자열 다루기"
   ]
  },
  {
   "attachments": {},
   "cell_type": "markdown",
   "metadata": {},
   "source": [
    "## 연습문제\n",
    "* 사용자의 영문 이름을 입력받아 성과 이름 순서를 바꾸어서 출력하는 프로그램을 작성하세요.     \n",
    "   성과 이름은 공백으로 구분합니다."
   ]
  },
  {
   "cell_type": "code",
   "execution_count": 36,
   "metadata": {},
   "outputs": [
    {
     "name": "stdout",
     "output_type": "stream",
     "text": [
      "이름 :  Jiyeon Seok\n"
     ]
    }
   ],
   "source": [
    "full = input('이름을 입력하세요 : (성과 이름은 공백으로 구분)\\n')\n",
    "space = full.find(' ')\n",
    "first, last = full[space : ], full[:space]\n",
    "print(f'이름 : {first} {last}')"
   ]
  },
  {
   "attachments": {},
   "cell_type": "markdown",
   "metadata": {},
   "source": [
    "# 8강. 조건에 따라 분기하기"
   ]
  },
  {
   "attachments": {},
   "cell_type": "markdown",
   "metadata": {},
   "source": [
    "## 연습문제\n",
    "* 정수를 입력 받아 짝수/홀수 여부를 판단하시오."
   ]
  },
  {
   "cell_type": "code",
   "execution_count": 39,
   "metadata": {},
   "outputs": [
    {
     "name": "stdout",
     "output_type": "stream",
     "text": [
      "-1은(는) 짝수도 홀수도 아닙니다.\n"
     ]
    }
   ],
   "source": [
    "a = int(input('정수를 입력하세요. : '))\n",
    "if a <= 0 : \n",
    "    print(f'{a}은(는) 짝수도 홀수도 아닙니다.')\n",
    "elif a % 2 == 0 :\n",
    "    print(f'{a}은(는) 짝수입니다.')    \n",
    "else :\n",
    "    print(f'{a}은(는) 홀수입니다.')        "
   ]
  },
  {
   "attachments": {},
   "cell_type": "markdown",
   "metadata": {},
   "source": [
    "# 9강. 횟수로 반복하기"
   ]
  },
  {
   "attachments": {},
   "cell_type": "markdown",
   "metadata": {},
   "source": [
    "## 연습문제\n",
    "* 구구단 출력하기"
   ]
  },
  {
   "cell_type": "code",
   "execution_count": 52,
   "metadata": {},
   "outputs": [
    {
     "name": "stdout",
     "output_type": "stream",
     "text": [
      "1 * 1 =  1\t1 * 2 =  2\t1 * 3 =  3\t1 * 4 =  4\t1 * 5 =  5\t1 * 6 =  6\t1 * 7 =  7\t1 * 8 =  8\t1 * 9 =  9\t\n",
      "2 * 1 =  2\t2 * 2 =  4\t2 * 3 =  6\t2 * 4 =  8\t2 * 5 =  10\t2 * 6 =  12\t2 * 7 =  14\t2 * 8 =  16\t2 * 9 =  18\t\n",
      "3 * 1 =  3\t3 * 2 =  6\t3 * 3 =  9\t3 * 4 =  12\t3 * 5 =  15\t3 * 6 =  18\t3 * 7 =  21\t3 * 8 =  24\t3 * 9 =  27\t\n",
      "4 * 1 =  4\t4 * 2 =  8\t4 * 3 =  12\t4 * 4 =  16\t4 * 5 =  20\t4 * 6 =  24\t4 * 7 =  28\t4 * 8 =  32\t4 * 9 =  36\t\n",
      "5 * 1 =  5\t5 * 2 =  10\t5 * 3 =  15\t5 * 4 =  20\t5 * 5 =  25\t5 * 6 =  30\t5 * 7 =  35\t5 * 8 =  40\t5 * 9 =  45\t\n",
      "6 * 1 =  6\t6 * 2 =  12\t6 * 3 =  18\t6 * 4 =  24\t6 * 5 =  30\t6 * 6 =  36\t6 * 7 =  42\t6 * 8 =  48\t6 * 9 =  54\t\n",
      "7 * 1 =  7\t7 * 2 =  14\t7 * 3 =  21\t7 * 4 =  28\t7 * 5 =  35\t7 * 6 =  42\t7 * 7 =  49\t7 * 8 =  56\t7 * 9 =  63\t\n",
      "8 * 1 =  8\t8 * 2 =  16\t8 * 3 =  24\t8 * 4 =  32\t8 * 5 =  40\t8 * 6 =  48\t8 * 7 =  56\t8 * 8 =  64\t8 * 9 =  72\t\n",
      "9 * 1 =  9\t9 * 2 =  18\t9 * 3 =  27\t9 * 4 =  36\t9 * 5 =  45\t9 * 6 =  54\t9 * 7 =  63\t9 * 8 =  72\t9 * 9 =  81\t\n"
     ]
    }
   ],
   "source": [
    "story = ''\n",
    "for dan in range(1,10) : \n",
    "    for mul in range(1,10) : \n",
    "        story += f'{dan} * {mul} = {dan * mul : 2d}\\t'\n",
    "    print(story)\n",
    "    story = ''"
   ]
  },
  {
   "attachments": {},
   "cell_type": "markdown",
   "metadata": {},
   "source": [
    "* 1부터 10까지 정수의 합 구하기"
   ]
  },
  {
   "cell_type": "code",
   "execution_count": 53,
   "metadata": {},
   "outputs": [
    {
     "name": "stdout",
     "output_type": "stream",
     "text": [
      "1부터 10까지의 합 : 55\n"
     ]
    }
   ],
   "source": [
    "sum_1_to_10 = 0 \n",
    "for num in range(1,11) : \n",
    "    sum_1_to_10 += num\n",
    "print(f'1부터 10까지의 합 : {sum_1_to_10}')    "
   ]
  },
  {
   "attachments": {},
   "cell_type": "markdown",
   "metadata": {},
   "source": [
    "# 10강. 조건으로 반복하기"
   ]
  },
  {
   "attachments": {},
   "cell_type": "markdown",
   "metadata": {},
   "source": [
    "## 연습문제\n",
    "* 올바른 아이디/비밀번호를 입력할 때까지 아이디와 비밀번호를 입력하는 프로그램 만들기"
   ]
  },
  {
   "cell_type": "code",
   "execution_count": 57,
   "metadata": {},
   "outputs": [
    {
     "name": "stdout",
     "output_type": "stream",
     "text": [
      "id가 틀렸습니다. 다시 입력하세요.\n",
      "pw가 틀렸습니다. 다시 입력하세요.\n",
      "pw가 틀렸습니다. 다시 입력하세요.\n",
      "로그인 되었습니다.\n"
     ]
    }
   ],
   "source": [
    "id, pw = 'pebble_jji', '12341234'\n",
    "while True :\n",
    "    input_id, input_pw = map(str, input('아이디와 비밀번호를 입력하세요. (공백으로 구분): \\n').split(' '))\n",
    "    if input_id == id and input_pw == pw :\n",
    "        print('로그인 되었습니다.')\n",
    "        break\n",
    "    else : \n",
    "        if input_id != id and input_pw == pw : \n",
    "            print('id가 틀렸습니다. 다시 입력하세요. ')\n",
    "        elif input_id == id and input_pw != pw : \n",
    "            print('pw가 틀렸습니다. 다시 입력하세요.')\n",
    "        else : \n",
    "            print('모두 틀렸습니다. 다시 입력하세요.')            "
   ]
  },
  {
   "attachments": {},
   "cell_type": "markdown",
   "metadata": {},
   "source": [
    "# 11강. 알고리즘 연습하기"
   ]
  },
  {
   "attachments": {},
   "cell_type": "markdown",
   "metadata": {},
   "source": [
    "## 연습문제\n",
    "* 1~100 사이의 정답 숫자를 랜덤으로 하나 정하고, 정답 숫자를 맞출 때까지 숫자를 입력하는 게임이다.     \n",
    "내가 입력한 숫자가 정답보다 작으면 'DOWN', 정답보다 크면 'UP'을 출력하고 숫자를 다시 입력받는다.     \n",
    "정답을 맞추면 '정답!'이라고 출력하고 게임을 끝낸다."
   ]
  },
  {
   "cell_type": "code",
   "execution_count": 70,
   "metadata": {},
   "outputs": [
    {
     "name": "stdout",
     "output_type": "stream",
     "text": [
      "Down!\n",
      "Down!\n",
      "Up!\n",
      "Down!\n",
      "Down!\n",
      "5회의 기회를 초과했습니다. 정답은 11입니다.\n"
     ]
    }
   ],
   "source": [
    "import numpy as np\n",
    "ans = np.random.randint(1,100)\n",
    "input_ans = int(input('예상하는 숫자를 입력하세요. : '))\n",
    "cnt = 0\n",
    "while True : \n",
    "    cnt += 1\n",
    "    if cnt <= 5 :\n",
    "        if ans == input_ans : \n",
    "            print(f'정답입니다. {cnt}번 만에 맞췄습니다.')\n",
    "            break\n",
    "        elif ans < input_ans : \n",
    "            print('Down!')\n",
    "            input_ans = int(input('예상하는 숫자를 입력하세요. : '))   \n",
    "        elif ans > input_ans : \n",
    "            print('Up!')\n",
    "            input_ans = int(input('예상하는 숫자를 입력하세요. : '))  \n",
    "    else : \n",
    "        print(f'{cnt - 1}회의 기회를 초과했습니다. 정답은 {ans}입니다.')\n",
    "        break          "
   ]
  },
  {
   "attachments": {},
   "cell_type": "markdown",
   "metadata": {},
   "source": [
    "* 사칙연산 프로그램"
   ]
  },
  {
   "cell_type": "code",
   "execution_count": 71,
   "metadata": {},
   "outputs": [
    {
     "name": "stdout",
     "output_type": "stream",
     "text": [
      "1 + 2 = 3\n"
     ]
    }
   ],
   "source": [
    "num1 = int(input('숫자 1 : '))\n",
    "num2 = int(input('숫자 2 : '))\n",
    "cal = input('연산자를 입력하세요. : ')\n",
    "if cal in ['+','-','/', '*'] : \n",
    "    if cal == '+' : \n",
    "        print(f'{num1} {cal} {num2} = {num1 + num2}')\n",
    "    elif cal == '-' :\n",
    "        print(f'{num1} {cal} {num2} = {num1 - num2}')\n",
    "    elif cal == '*' :\n",
    "        print(f'{num1} {cal} {num2} = {num1 * num2}')\n",
    "    elif cal == '/' :\n",
    "        print(f'{num1} {cal} {num2} = {num1 / num2}')\n",
    "else : \n",
    "    print('잘못 입력하셨습니다.')                             \n"
   ]
  },
  {
   "attachments": {},
   "cell_type": "markdown",
   "metadata": {},
   "source": [
    "* 할인된 금액 계산  \n",
    "물건의 구매가를 입력받고, 금액에 따른 할인율을 계산하여 구매가, 할인율, 할인 금액, 지불 금액을 출력하시오.  \n",
    "> * 1 ~ 5만원 : 5%\n",
    "> * 5 ~ 10만원 : 7%\n",
    "> * 10만원 ~ : 10%"
   ]
  },
  {
   "cell_type": "code",
   "execution_count": 75,
   "metadata": {},
   "outputs": [
    {
     "name": "stdout",
     "output_type": "stream",
     "text": [
      "할인율 : 7%\n",
      "할인 금액 : 4900\n",
      "지불 금액 : 65100\n"
     ]
    }
   ],
   "source": [
    "import numpy as np\n",
    "buy = int(input('구매가를 입력하세요. : '))\n",
    "if buy >= 10000 and buy < 50000 : \n",
    "    print(f'할인율 : 5%\\n할인 금액 : {int(0.05 * buy)}\\n지불 금액 : {int(0.95 * buy)}')\n",
    "elif buy >= 50000 and buy < 100000 : \n",
    "    print(f'할인율 : 7%\\n할인 금액 : {int(0.07 * buy)}\\n지불 금액 : {int(0.93 * buy)}')   \n",
    "elif buy >= 100000: \n",
    "    print(f'할인율 : 10%\\n할인 금액 : {int(0.1 * buy)}\\n지불 금액 : {int(0.9 * buy)}')     \n",
    "else : \n",
    "    print(f'할인율 : 0%\\n할인 금액 : 0\\n지불 금액 : {buy}')\n",
    "    "
   ]
  },
  {
   "attachments": {},
   "cell_type": "markdown",
   "metadata": {},
   "source": [
    "# 12강.리스트와 튜플 만들기"
   ]
  },
  {
   "attachments": {},
   "cell_type": "markdown",
   "metadata": {},
   "source": [
    "# 13~14강. 리스트 변경하기"
   ]
  },
  {
   "attachments": {},
   "cell_type": "markdown",
   "metadata": {},
   "source": [
    "## 연습문제\n",
    "* 위시리스트의 물건을 카트로 옮겨봅시다."
   ]
  },
  {
   "cell_type": "code",
   "execution_count": 78,
   "metadata": {},
   "outputs": [
    {
     "data": {
      "text/plain": [
       "['가방', '시계', '신발']"
      ]
     },
     "execution_count": 78,
     "metadata": {},
     "output_type": "execute_result"
    }
   ],
   "source": [
    "wishlist = ['가방','시계','신발']\n",
    "mycart = []\n",
    "for i in range(len(wishlist)) : \n",
    "    mycart.append(wishlist[i])\n",
    "mycart    "
   ]
  },
  {
   "attachments": {},
   "cell_type": "markdown",
   "metadata": {},
   "source": [
    "# 15강. 리스트 활용과 2차원 리스트"
   ]
  },
  {
   "attachments": {},
   "cell_type": "markdown",
   "metadata": {},
   "source": [
    "## 연습문제\n",
    "* 파일리스트에서 파일명과 확장자를 분리하여 다음과 같은 형태로 저장하는 리스트를 만들어봅시다.  \n",
    "|파일명|확장자|\n",
    "|--|--|\n",
    "|file1|py|\n",
    "|file2|txt|\n",
    "|file3|pptx|"
   ]
  },
  {
   "cell_type": "code",
   "execution_count": 79,
   "metadata": {},
   "outputs": [
    {
     "data": {
      "text/plain": [
       "[['file1', 'py'], ['file2', 'txt'], ['file3', 'pptx']]"
      ]
     },
     "execution_count": 79,
     "metadata": {},
     "output_type": "execute_result"
    }
   ],
   "source": [
    "file_list = ['file1.py','file2.txt','file3.pptx']\n",
    "name_extension = []\n",
    "\n",
    "# for 이용\n",
    "for i in range(len(file_list)) : \n",
    "    name_extension.append(file_list[i].split('.'))\n",
    "\n",
    "name_extension"
   ]
  },
  {
   "cell_type": "code",
   "execution_count": 84,
   "metadata": {},
   "outputs": [
    {
     "data": {
      "text/plain": [
       "[['file1', 'py'], ['file2', 'txt'], ['file3', 'pptx']]"
      ]
     },
     "execution_count": 84,
     "metadata": {},
     "output_type": "execute_result"
    }
   ],
   "source": [
    "# list comprehension 이용\n",
    "name_extension = [file_list[i].split('.') for i in range(len(file_list))]\n",
    "name_extension"
   ]
  },
  {
   "attachments": {},
   "cell_type": "markdown",
   "metadata": {},
   "source": [
    "# 16강. 리스트 연습하기"
   ]
  },
  {
   "attachments": {},
   "cell_type": "markdown",
   "metadata": {},
   "source": [
    "## 연습문제\n",
    "* 학생별 총점, 평균 구하기\n",
    "다음은 학생 별 [국어,영어,수학]점수가 저장된 리스트이다.  \n",
    "각 학생의 세 과목의 성적의 [총점, 평균]을 구하여 리스트에 담으시오.  \n",
    "(평균은 반올림하여 소수점 1자리까지 표현한다.) "
   ]
  },
  {
   "cell_type": "code",
   "execution_count": 92,
   "metadata": {},
   "outputs": [
    {
     "data": {
      "text/plain": [
       "[[260, 86.7], [258, 86.0], [254, 84.7], [254, 84.7], [257, 85.7]]"
      ]
     },
     "execution_count": 92,
     "metadata": {},
     "output_type": "execute_result"
    }
   ],
   "source": [
    "import numpy as np\n",
    "score_list = [[96,84,80],[96,86,76],[76,95,83],[89,96,69],[90,76,91]]\n",
    "stu_scores = [[sum(score_list[i]), np.round(np.mean(score_list[i]), 1)] for i in range(len(score_list))]\n",
    "stu_scores"
   ]
  },
  {
   "attachments": {},
   "cell_type": "markdown",
   "metadata": {},
   "source": [
    "* 다음은 학생 별 [국어,영어,수학]점수가 저장된 리스트이다.       \n",
    "각 과목의 리스트를 분리하고 과목별 평균을 구해봅시다.  \n",
    "평균은 소수점 1자리까지 출력한다."
   ]
  },
  {
   "cell_type": "code",
   "execution_count": 103,
   "metadata": {},
   "outputs": [
    {
     "data": {
      "text/plain": [
       "[[399, 79.8], [399, 79.8], [399, 79.8]]"
      ]
     },
     "execution_count": 103,
     "metadata": {},
     "output_type": "execute_result"
    }
   ],
   "source": [
    "import numpy as np\n",
    "score_list = [[96,84,80],[96,86,76],[76,95,83],[89,96,69],[90,76,91]]\n",
    "new_score_list = [[0,0,0,0,0]] * 3\n",
    "for i in range(len(score_list)) : \n",
    "    for j in range(len(score_list[i])) : \n",
    "        new_score_list[j][i] = score_list[i][j]\n",
    "stu_scores = [[sum(new_score_list[i]), np.round(np.mean(new_score_list[i]), 1)] for i in range(len(new_score_list))]        \n",
    "stu_scores"
   ]
  },
  {
   "attachments": {},
   "cell_type": "markdown",
   "metadata": {},
   "source": [
    "* 메뉴를 입력받아 랜덤으로 메뉴를 정하는 프로그램을 작성해봅시다.  \n",
    "공백을 입력할 때까지 메뉴를 입력받습니다."
   ]
  },
  {
   "cell_type": "code",
   "execution_count": 4,
   "metadata": {},
   "outputs": [
    {
     "name": "stdout",
     "output_type": "stream",
     "text": [
      "오늘의 메뉴는 중식\n"
     ]
    }
   ],
   "source": [
    "import random\n",
    "menulist = ['한식','일식','중식','양식','분식','이탈리아식']\n",
    "while True : \n",
    "    ans = input('오늘은 뭘먹지?')\n",
    "    menulist.append(ans)\n",
    "    if ans == '' : \n",
    "        break\n",
    "print(f'오늘의 메뉴는 {random.choice(menulist)}')    "
   ]
  }
 ],
 "metadata": {
  "kernelspec": {
   "display_name": "base",
   "language": "python",
   "name": "python3"
  },
  "language_info": {
   "codemirror_mode": {
    "name": "ipython",
    "version": 3
   },
   "file_extension": ".py",
   "mimetype": "text/x-python",
   "name": "python",
   "nbconvert_exporter": "python",
   "pygments_lexer": "ipython3",
   "version": "3.9.13"
  },
  "orig_nbformat": 4,
  "vscode": {
   "interpreter": {
    "hash": "ff4f85d6e04298634172ac5d8264e7e9b556b95639fe52ebb9425c4d4cba0c9c"
   }
  }
 },
 "nbformat": 4,
 "nbformat_minor": 2
}
